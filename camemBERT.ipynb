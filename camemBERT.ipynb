{
  "cells": [
    {
      "cell_type": "markdown",
      "metadata": {
        "id": "2RCcBb1eXwBw"
      },
      "source": [
        "# 0- Imports et données"
      ]
    },
    {
      "cell_type": "code",
      "execution_count": null,
      "metadata": {
        "execution": {
          "iopub.execute_input": "2024-06-26T14:27:50.317197Z",
          "iopub.status.busy": "2024-06-26T14:27:50.316862Z",
          "iopub.status.idle": "2024-06-26T14:28:03.153573Z",
          "shell.execute_reply": "2024-06-26T14:28:03.152454Z",
          "shell.execute_reply.started": "2024-06-26T14:27:50.317168Z"
        },
        "id": "Cs2BjcO5-xZ8"
      },
      "outputs": [],
      "source": [
        "from transformers import CamembertForSequenceClassification, CamembertTokenizer\n",
        "import torch\n",
        "from torch.utils.data import DataLoader, RandomSampler, SequentialSampler, TensorDataset\n",
        "import torch.nn.functional as F\n",
        "from sklearn.model_selection import train_test_split\n",
        "from sklearn.metrics import confusion_matrix, accuracy_score, precision_recall_fscore_support\n",
        "from tqdm import tqdm\n",
        "import numpy as np\n",
        "import seaborn as sns\n",
        "import matplotlib.pyplot as plt\n",
        "import pandas as pd"
      ]
    },
    {
      "cell_type": "code",
      "execution_count": null,
      "metadata": {
        "colab": {
          "base_uri": "https://localhost:8080/"
        },
        "id": "6jvHAsEB-6Pe",
        "outputId": "53a4b661-90e2-4f0d-a19b-78319a9c46e5"
      },
      "outputs": [
        {
          "output_type": "stream",
          "name": "stdout",
          "text": [
            "Drive already mounted at /content/drive; to attempt to forcibly remount, call drive.mount(\"/content/drive\", force_remount=True).\n"
          ]
        }
      ],
      "source": [
        "from google.colab import drive\n",
        "drive.mount('/content/drive')"
      ]
    },
    {
      "cell_type": "code",
      "execution_count": null,
      "metadata": {
        "execution": {
          "iopub.execute_input": "2024-06-26T14:28:10.471949Z",
          "iopub.status.busy": "2024-06-26T14:28:10.470902Z",
          "iopub.status.idle": "2024-06-26T14:28:15.684135Z",
          "shell.execute_reply": "2024-06-26T14:28:15.683336Z",
          "shell.execute_reply.started": "2024-06-26T14:28:10.471905Z"
        },
        "id": "R_QScx4A-xZ-"
      },
      "outputs": [],
      "source": [
        "df = pd.read_csv(\"/content/drive/MyDrive/Internship/lemonde_since1990.csv\",\n",
        "                encoding = \"utf-8\",\n",
        "                sep = \";\")"
      ]
    },
    {
      "cell_type": "code",
      "source": [
        "df.to_csv(\"/content/drive/MyDrive/Internship/lemonde_since1990.csv\",\n",
        "                encoding = \"utf-8\",\n",
        "                sep = \";\")"
      ],
      "metadata": {
        "id": "PQpRwVK5Phtq"
      },
      "execution_count": null,
      "outputs": []
    },
    {
      "cell_type": "code",
      "source": [
        "sampled_df.to_csv(\"sample_LeMonde.csv\", encoding = \"utf-8\", sep = \";\")"
      ],
      "metadata": {
        "id": "d66JimOzPoKR"
      },
      "execution_count": null,
      "outputs": []
    },
    {
      "cell_type": "markdown",
      "metadata": {
        "id": "XWFV3KkDX4Id"
      },
      "source": [
        "On crée un échantillon pertinent pour entraîner le modèle :"
      ]
    },
    {
      "cell_type": "code",
      "execution_count": null,
      "metadata": {
        "execution": {
          "iopub.execute_input": "2024-06-26T14:28:18.626025Z",
          "iopub.status.busy": "2024-06-26T14:28:18.625222Z",
          "iopub.status.idle": "2024-06-26T14:28:29.703753Z",
          "shell.execute_reply": "2024-06-26T14:28:29.702554Z",
          "shell.execute_reply.started": "2024-06-26T14:28:18.625992Z"
        },
        "id": "99tdnldn-xZ_"
      },
      "outputs": [],
      "source": [
        "keep = ['idees']\n",
        "international = ['Afrique', 'international' ]\n",
        "culture = ['m-styles', 'pixels', 'intimites', 'm-le-mag', 'disparitions', \"les-recettes-du-monde\",\n",
        "           \"m-perso\", \"mondephilatelique\"]\n",
        "\n",
        "# Utilisation de apply avec une lambda function\n",
        "df['LABEL'] = df.apply(lambda row: 'culture' if row['Thème'] in culture\n",
        "                       else 'international' if row['Thème'] in international\n",
        "                       else 'autre' if row['Thème'] in keep\n",
        "                       else row['label'] , axis=1)\n",
        "\n",
        "# 1. Échantillonnage équilibré\n",
        "def create_balanced_sample(df, class_column, n_per_class):\n",
        "    # Sélectionner n échantillons de chaque classe\n",
        "    balanced_sample = df.groupby(class_column).apply(lambda x: x.sample(n=min(n_per_class, len(x)))).reset_index(drop=True)\n",
        "    return balanced_sample\n",
        "\n",
        "balanced_df = create_balanced_sample(df, 'LABEL', 3000) #ça ne prend automatiquement pas en compte les na\n",
        "\n",
        "# Convertir les étiquettes en entiers\n",
        "label_map = {label: idx for idx, label in enumerate(balanced_df['LABEL'].unique())}\n",
        "balanced_df['label_id'] = balanced_df['LABEL'].map(label_map)"
      ]
    },
    {
      "cell_type": "code",
      "source": [
        "label_map"
      ],
      "metadata": {
        "colab": {
          "base_uri": "https://localhost:8080/"
        },
        "id": "hPXjZbJgsW3l",
        "outputId": "86d82dc2-6f4f-4642-964d-d1a13882ee42"
      },
      "execution_count": null,
      "outputs": [
        {
          "output_type": "execute_result",
          "data": {
            "text/plain": [
              "{'autre': 0, 'culture': 1, 'international': 2, 'sport': 3}"
            ]
          },
          "metadata": {},
          "execution_count": 14
        }
      ]
    },
    {
      "cell_type": "markdown",
      "source": [
        "Script pour surveiller l'usage des GPU 🇰"
      ],
      "metadata": {
        "id": "KM3zV3toBAqg"
      }
    },
    {
      "cell_type": "code",
      "source": [
        "import subprocess\n",
        "import datetime\n",
        "\n",
        "def log_gpu_usage():\n",
        "    try:\n",
        "        result = subprocess.run(['nvidia-smi'], stdout=subprocess.PIPE, stderr=subprocess.PIPE)\n",
        "        if result.returncode == 0:\n",
        "            with open('/content/gpu_usage_log.txt', 'a') as f:\n",
        "                f.write(f\"{datetime.datetime.now()}\\n\")\n",
        "                f.write(result.stdout.decode('utf-8'))\n",
        "                f.write(\"\\n\\n\")\n",
        "        else:\n",
        "            print(\"No GPU found or nvidia-smi command failed.\")\n",
        "    except Exception as e:\n",
        "        print(f\"An error occurred: {e}\")\n",
        "\n",
        "log_gpu_usage()"
      ],
      "metadata": {
        "id": "HY6qOkk9A_t-"
      },
      "execution_count": null,
      "outputs": []
    },
    {
      "cell_type": "markdown",
      "metadata": {
        "id": "52gLHybZX-XU"
      },
      "source": [
        "# I- Classe du modèle et autres"
      ]
    },
    {
      "cell_type": "code",
      "execution_count": null,
      "metadata": {
        "execution": {
          "iopub.execute_input": "2024-06-26T14:34:30.958804Z",
          "iopub.status.busy": "2024-06-26T14:34:30.957751Z",
          "iopub.status.idle": "2024-06-26T14:34:30.980844Z",
          "shell.execute_reply": "2024-06-26T14:34:30.979754Z",
          "shell.execute_reply.started": "2024-06-26T14:34:30.958764Z"
        },
        "id": "qrywuAQS-xaA"
      },
      "outputs": [],
      "source": [
        "class CustomLoss(torch.nn.Module):\n",
        "    def __init__(self, weights):\n",
        "        super(CustomLoss, self).__init__()\n",
        "        self.weights = weights\n",
        "\n",
        "    def forward(self, outputs, labels):\n",
        "        loss = F.cross_entropy(outputs, labels, reduction='none')\n",
        "        for i in range(len(labels)):\n",
        "            if labels[i] == 0:\n",
        "                loss[i] *= self.weights[0]\n",
        "        return loss.mean()\n",
        "\n",
        "class CamembertModel():\n",
        "    def __init__(self, num_labels, epochs=5, lr=1e-5, batch_size=8, weights=None):\n",
        "        self.num_labels = num_labels\n",
        "        self.epochs = epochs\n",
        "        self.lr = lr\n",
        "        self.batch_size = batch_size\n",
        "        self.weights = weights if weights is not None else torch.tensor([1.0] * num_labels)\n",
        "        self.device = torch.device('cuda' if torch.cuda.is_available() else 'cpu')\n",
        "        self.tokenizer = CamembertTokenizer.from_pretrained('camembert-base')\n",
        "        self.model = CamembertForSequenceClassification.from_pretrained('camembert-base', num_labels=num_labels).to(self.device)\n",
        "        self.model.classifier.dropout = torch.nn.Dropout(0.3)\n",
        "\n",
        "        self.optimizer = torch.optim.AdamW(self.model.parameters(), lr=lr, weight_decay=0.01)\n",
        "        self.loss_fn = CustomLoss(self.weights)\n",
        "\n",
        "    def fit(self, X_train, y_train, X_val, y_val):\n",
        "        inputs_train = self.tokenizer(X_train, padding=True, truncation=True, return_tensors='pt')\n",
        "        dataset_train = TensorDataset(inputs_train['input_ids'], inputs_train['attention_mask'], torch.tensor(y_train))\n",
        "        loader_train = DataLoader(dataset_train, batch_size=self.batch_size, shuffle=True)\n",
        "\n",
        "        inputs_val = self.tokenizer(X_val, padding=True, truncation=True, return_tensors='pt')\n",
        "        dataset_val = TensorDataset(inputs_val['input_ids'], inputs_val['attention_mask'], torch.tensor(y_val))\n",
        "        loader_val = DataLoader(dataset_val, batch_size=self.batch_size, shuffle=False)\n",
        "\n",
        "        best_loss = float('inf')\n",
        "        patience, trials = 3, 0\n",
        "\n",
        "        for epoch in range(self.epochs):\n",
        "            self.model.train()\n",
        "            total_loss = 0\n",
        "            progress_bar = tqdm(loader_train, desc=f'Epoch {epoch + 1}/{self.epochs}', leave=False)\n",
        "            for batch in progress_bar:\n",
        "                batch = tuple(t.to(self.device) for t in batch)\n",
        "                inputs = {'input_ids': batch[0], 'attention_mask': batch[1], 'labels': batch[2]}\n",
        "                self.optimizer.zero_grad()\n",
        "                outputs = self.model(**inputs)\n",
        "                loss = self.loss_fn(outputs.logits, inputs['labels'])\n",
        "                loss.backward()\n",
        "                self.optimizer.step()\n",
        "\n",
        "                total_loss += loss.item()\n",
        "                progress_bar.set_postfix({'training_loss': '{:.3f}'.format(total_loss / len(progress_bar))})\n",
        "\n",
        "            val_loss = self.evaluate(loader_val)\n",
        "            if val_loss < best_loss:\n",
        "                best_loss = val_loss\n",
        "                trials = 0\n",
        "                # Sauvegarder le meilleur modèle\n",
        "                torch.save(self.model.state_dict(), 'best_model.pt')\n",
        "            else:\n",
        "                trials += 1\n",
        "                if trials >= patience:\n",
        "                    print(f\"Early stopping on epoch {epoch + 1}\")\n",
        "                    break\n",
        "\n",
        "    def evaluate(self, loader):\n",
        "        self.model.eval()\n",
        "        total_loss = 0\n",
        "        with torch.no_grad():\n",
        "            for batch in loader:\n",
        "                batch = tuple(t.to(self.device) for t in batch)\n",
        "                inputs = {'input_ids': batch[0], 'attention_mask': batch[1], 'labels': batch[2]}\n",
        "                outputs = self.model(**inputs)\n",
        "                loss = self.loss_fn(outputs.logits, inputs['labels'])\n",
        "                total_loss += loss.item()\n",
        "        return total_loss / len(loader)\n",
        "\n",
        "    def predict(self, X_test):\n",
        "        self.model.eval()\n",
        "        inputs = self.tokenizer(X_test, padding=True, truncation=True, return_tensors='pt')\n",
        "        dataset = TensorDataset(inputs['input_ids'], inputs['attention_mask'])\n",
        "        loader = DataLoader(dataset, batch_size=self.batch_size, shuffle=False)\n",
        "\n",
        "        all_preds = []\n",
        "        with torch.no_grad():\n",
        "            for batch in tqdm(loader, desc='Predicting', leave=False):\n",
        "                batch = tuple(t.to(self.device) for t in batch)\n",
        "                inputs = {'input_ids': batch[0], 'attention_mask': batch[1]}\n",
        "                outputs = self.model(**inputs)\n",
        "                preds = torch.argmax(outputs.logits, dim=-1)\n",
        "                all_preds.extend(preds.cpu().numpy())\n",
        "            self.preds = np.array(all_preds)\n",
        "\n",
        "    def predict_proba(self, X_test): #Méthode si on veut des probas au lieu de classification directe\n",
        "        self.model.eval()\n",
        "        inputs = self.tokenizer(X_test, padding=True, truncation=True, return_tensors='pt')\n",
        "        dataset = TensorDataset(inputs['input_ids'], inputs['attention_mask'])\n",
        "        loader = DataLoader(dataset, batch_size=self.batch_size, shuffle=False)\n",
        "\n",
        "        all_probs = []\n",
        "        with torch.no_grad():\n",
        "            for batch in tqdm(loader, desc='Predicting', leave=False):\n",
        "                batch = tuple(t.to(self.device) for t in batch)\n",
        "                inputs = {'input_ids': batch[0], 'attention_mask': batch[1]}\n",
        "                outputs = self.model(**inputs)\n",
        "                probs = torch.softmax(outputs.logits, dim=-1)\n",
        "                all_probs.extend(probs.cpu().numpy())\n",
        "        self.probs = np.array(all_probs)\n",
        "        self.preds_proba = np.argmax(self.probs, axis=1)\n",
        "\n",
        "\n",
        "\n",
        "    def score(self, y_test):\n",
        "        accuracy = accuracy_score(y_test, self.preds)\n",
        "        precision, recall, f1, _ = precision_recall_fscore_support(y_test, self.preds, average='weighted')\n",
        "        return accuracy, precision, recall, f1\n",
        "\n",
        "    def confusion_matrix(self, y_test):\n",
        "        cm = confusion_matrix(y_test, self.preds)\n",
        "        return cm\n",
        "\n",
        "    def plot_confusion_matrix(self, cm, labels):\n",
        "        plt.figure(figsize=(10, 8))\n",
        "        sns.heatmap(cm, annot=True, fmt='d', cmap='Blues', xticklabels=labels, yticklabels=labels)\n",
        "        plt.xlabel('Predicted')\n",
        "        plt.ylabel('True')\n",
        "        plt.title('Confusion Matrix')\n",
        "        plt.show()"
      ]
    },
    {
      "cell_type": "markdown",
      "metadata": {
        "id": "VbNxYLIbYC7q"
      },
      "source": [
        "# II- Entraînement"
      ]
    },
    {
      "cell_type": "code",
      "execution_count": null,
      "metadata": {
        "colab": {
          "base_uri": "https://localhost:8080/"
        },
        "execution": {
          "iopub.execute_input": "2024-06-26T14:34:36.718166Z",
          "iopub.status.busy": "2024-06-26T14:34:36.717348Z",
          "iopub.status.idle": "2024-06-26T14:36:36.953295Z",
          "shell.execute_reply": "2024-06-26T14:36:36.951929Z",
          "shell.execute_reply.started": "2024-06-26T14:34:36.718132Z"
        },
        "id": "-ud71Vg_-xaB",
        "outputId": "d2c92167-9a57-4ca2-ba3b-8130ff30a8f4"
      },
      "outputs": [
        {
          "output_type": "stream",
          "name": "stderr",
          "text": [
            "Special tokens have been added in the vocabulary, make sure the associated word embeddings are fine-tuned or trained.\n",
            "Some weights of CamembertForSequenceClassification were not initialized from the model checkpoint at camembert-base and are newly initialized: ['classifier.dense.bias', 'classifier.dense.weight', 'classifier.out_proj.bias', 'classifier.out_proj.weight']\n",
            "You should probably TRAIN this model on a down-stream task to be able to use it for predictions and inference.\n"
          ]
        }
      ],
      "source": [
        "# Définir le modèle\n",
        "weights = torch.tensor([3.0, 1.0, 1.0, 1.0])\n",
        "model = CamembertModel(num_labels=4, epochs=5, lr=1e-5, batch_size=8, weights=weights)\n",
        "\n",
        "## Diviser les données en ensembles d'entraînement et de test\n",
        "X = balanced_df['Titre'].tolist()\n",
        "y = balanced_df['label_id'].tolist()\n",
        "\n",
        "# Diviser les données en ensembles d'entraînement et de test/validation\n",
        "X_train, X_temp, y_train, y_temp = train_test_split(X, y, test_size=0.3, random_state=42)\n",
        "\n",
        "# Diviser l'ensemble temporaire en ensembles de validation et de test\n",
        "X_val, X_test, y_val, y_test = train_test_split(X_temp, y_temp, test_size=0.5, random_state=42)\n"
      ]
    },
    {
      "cell_type": "code",
      "execution_count": null,
      "metadata": {
        "colab": {
          "base_uri": "https://localhost:8080/"
        },
        "id": "dd5aYZlOXZuG",
        "outputId": "d0ac47ed-7e65-4096-e502-7e33b1d6f1b0"
      },
      "outputs": [
        {
          "output_type": "stream",
          "name": "stderr",
          "text": []
        },
        {
          "output_type": "stream",
          "name": "stdout",
          "text": [
            "Early stopping on epoch 5\n"
          ]
        }
      ],
      "source": [
        "model.fit(X_train, y_train, X_val, y_val )"
      ]
    },
    {
      "cell_type": "markdown",
      "metadata": {
        "id": "QyNAfURJYHfp"
      },
      "source": [
        "# III- Evaluation"
      ]
    },
    {
      "cell_type": "code",
      "execution_count": null,
      "metadata": {
        "colab": {
          "base_uri": "https://localhost:8080/"
        },
        "id": "yeDPsAQPl59L",
        "outputId": "ee7f9a2a-5bf0-4a7d-fd4c-051b2d5d50e2"
      },
      "outputs": [
        {
          "output_type": "stream",
          "name": "stderr",
          "text": []
        }
      ],
      "source": [
        "model.predict(X_test)"
      ]
    },
    {
      "cell_type": "code",
      "execution_count": null,
      "metadata": {
        "colab": {
          "base_uri": "https://localhost:8080/"
        },
        "id": "j3Rq-AAZZHeR",
        "outputId": "d8ed3354-e770-4ea4-ac75-6c9b8a848458"
      },
      "outputs": [
        {
          "output_type": "stream",
          "name": "stdout",
          "text": [
            "Accuracy: 0.815\n",
            "Precision: 0.8238752873741074\n",
            "Recall: 0.815\n",
            "F1 Score: 0.8174334905461691\n"
          ]
        }
      ],
      "source": [
        "# Évaluer le modèle\n",
        "accuracy, precision, recall, f1 = model.score(y_test)\n",
        "print(f'Accuracy: {accuracy}')\n",
        "print(f'Precision: {precision}')\n",
        "print(f'Recall: {recall}')\n",
        "print(f'F1 Score: {f1}')"
      ]
    },
    {
      "cell_type": "code",
      "execution_count": null,
      "metadata": {
        "colab": {
          "base_uri": "https://localhost:8080/"
        },
        "id": "uwGE3zBSf7v6",
        "outputId": "b3b1e1ac-4aff-41e7-d890-8f681f014866"
      },
      "outputs": [
        {
          "data": {
            "text/plain": [
              "{'autre': 0, 'culture': 1, 'international': 2, 'sport': 3}"
            ]
          },
          "execution_count": 66,
          "metadata": {},
          "output_type": "execute_result"
        }
      ],
      "source": [
        "label_map"
      ]
    },
    {
      "cell_type": "code",
      "execution_count": null,
      "metadata": {
        "colab": {
          "base_uri": "https://localhost:8080/",
          "height": 718
        },
        "id": "gDLLIiboZFSF",
        "outputId": "34e50efc-399a-45c2-d2f7-6d05f7e3e018"
      },
      "outputs": [
        {
          "output_type": "display_data",
          "data": {
            "text/plain": [
              "<Figure size 1000x800 with 2 Axes>"
            ],
            "image/png": "[encoded data removed]"
          },
          "metadata": {}
        }
      ],
      "source": [
        "# Afficher la matrice de confusion\n",
        "cm = model.confusion_matrix(y_test)\n",
        "model.plot_confusion_matrix(cm, labels=['Actualité', 'Culture', \"International\", \"Sport\"])"
      ]
    },
    {
      "cell_type": "markdown",
      "metadata": {
        "id": "nUdq99uHhSNX"
      },
      "source": []
    },
    {
      "cell_type": "code",
      "execution_count": null,
      "metadata": {
        "colab": {
          "base_uri": "https://localhost:8080/"
        },
        "id": "qqGPuBjShUik",
        "outputId": "56aaca23-6668-4b59-949e-69378b26958e"
      },
      "outputs": [
        {
          "output_type": "stream",
          "name": "stdout",
          "text": [
            "Precision: [0.66603053 0.85125858 0.81912145 0.94911504]\n",
            "Recall: [0.79138322 0.78481013 0.76019185 0.91666667]\n",
            "F1 Score: [0.72331606 0.81668496 0.78855721 0.9326087 ]\n"
          ]
        }
      ],
      "source": [
        "precision, recall, f1, _ = precision_recall_fscore_support(y_test, model.preds, average=None)\n",
        "print(\"Precision:\", precision)\n",
        "print(\"Recall:\", recall)\n",
        "print(\"F1 Score:\", f1)"
      ]
    },
    {
      "cell_type": "markdown",
      "source": [
        "# IV- Utilisation du modèle à grande échelle"
      ],
      "metadata": {
        "id": "xDVJryZ49Ozl"
      }
    },
    {
      "cell_type": "code",
      "source": [
        "X = balanced_df['Titre'].tolist()\n",
        "y = balanced_df['label_id'].tolist()"
      ],
      "metadata": {
        "id": "QvZfLm7w9Sy3"
      },
      "execution_count": null,
      "outputs": []
    },
    {
      "cell_type": "code",
      "source": [
        "model.predict(X)"
      ],
      "metadata": {
        "colab": {
          "base_uri": "https://localhost:8080/"
        },
        "id": "0Xd0C7-Y9Uah",
        "outputId": "c227737a-4de0-4785-88a1-203857fd0953"
      },
      "execution_count": null,
      "outputs": [
        {
          "output_type": "stream",
          "name": "stderr",
          "text": []
        }
      ]
    },
    {
      "cell_type": "code",
      "source": [
        "# Afficher la matrice de confusion\n",
        "cm = model.confusion_matrix(y)\n",
        "model.plot_confusion_matrix(cm, labels=['Actualité', 'Culture', \"International\", \"Sport\"])"
      ],
      "metadata": {
        "colab": {
          "base_uri": "https://localhost:8080/",
          "height": 718
        },
        "id": "DC8z5yBK9hvF",
        "outputId": "68143ffa-8831-424f-8ac4-d48b2327b0bc"
      },
      "execution_count": null,
      "outputs": [
        {
          "output_type": "display_data",
          "data": {
            "text/plain": [
              "<Figure size 1000x800 with 2 Axes>"
            ],
            "image/png": "[encoded data removed]"
          },
          "metadata": {}
        }
      ]
    },
    {
      "cell_type": "code",
      "source": [
        "precision, recall, f1, _ = precision_recall_fscore_support(y, model.preds, average=None)\n",
        "print(\"Precision:\", precision)\n",
        "print(\"Recall:\", recall)\n",
        "print(\"F1 Score:\", f1)"
      ],
      "metadata": {
        "colab": {
          "base_uri": "https://localhost:8080/"
        },
        "id": "FSRu4uSo9s4W",
        "outputId": "14a21789-1bcf-45f3-f03a-8d59d68cbf72"
      },
      "execution_count": null,
      "outputs": [
        {
          "output_type": "stream",
          "name": "stdout",
          "text": [
            "Precision: [0.68860781 0.82394169 0.89090198 0.95702393]\n",
            "Recall: [0.8275 0.8817 0.6835 0.9197]\n",
            "F1 Score: [0.75169187 0.85184291 0.77354006 0.93799082]\n"
          ]
        }
      ]
    },
    {
      "cell_type": "code",
      "source": [
        "unknown_themes = df[df['LABEL'].isna()]\n",
        "\n",
        "# Prédire les thèmes pour les lignes avec des thèmes inconnus\n",
        "# Assumons que `model_final` a une méthode `predict` qui prend une liste de titres (textes) et renvoie une liste de thèmes\n",
        "model_final.predict(unknown_themes['Titre'].tolist())\n",
        "\n",
        "# Mettre à jour le DataFrame avec les prédictions\n",
        "df.loc[df['LABEL'].isna(), 'LABEL'] = model_final.preds"
      ],
      "metadata": {
        "colab": {
          "base_uri": "https://localhost:8080/",
          "height": 141
        },
        "id": "t1oDzMSSDi_Z",
        "outputId": "8bc23808-f284-4885-d755-e0365c156b4c"
      },
      "execution_count": null,
      "outputs": [
        {
          "output_type": "error",
          "ename": "AttributeError",
          "evalue": "'numpy.ndarray' object has no attribute 'map'",
          "traceback": [
            "\u001b[0;31m---------------------------------------------------------------------------\u001b[0m",
            "\u001b[0;31mAttributeError\u001b[0m                            Traceback (most recent call last)",
            "\u001b[0;32m<ipython-input-68-b101edb23b3a>\u001b[0m in \u001b[0;36m<cell line: 1>\u001b[0;34m()\u001b[0m\n\u001b[0;32m----> 1\u001b[0;31m \u001b[0mdf\u001b[0m\u001b[0;34m.\u001b[0m\u001b[0mloc\u001b[0m\u001b[0;34m[\u001b[0m\u001b[0mdf\u001b[0m\u001b[0;34m[\u001b[0m\u001b[0;34m'LABEL'\u001b[0m\u001b[0;34m]\u001b[0m\u001b[0;34m.\u001b[0m\u001b[0misna\u001b[0m\u001b[0;34m(\u001b[0m\u001b[0;34m)\u001b[0m\u001b[0;34m,\u001b[0m \u001b[0;34m'LABEL'\u001b[0m\u001b[0;34m]\u001b[0m \u001b[0;34m=\u001b[0m \u001b[0mmodel_final\u001b[0m\u001b[0;34m.\u001b[0m\u001b[0mpreds\u001b[0m\u001b[0;34m.\u001b[0m\u001b[0mmap\u001b[0m\u001b[0;34m(\u001b[0m\u001b[0mlabel_map\u001b[0m\u001b[0;34m)\u001b[0m\u001b[0;34m\u001b[0m\u001b[0;34m\u001b[0m\u001b[0m\n\u001b[0m",
            "\u001b[0;31mAttributeError\u001b[0m: 'numpy.ndarray' object has no attribute 'map'"
          ]
        }
      ]
    },
    {
      "cell_type": "code",
      "source": [
        "import torch\n",
        "\n",
        "# Enregistrer les paramètres du modèle\n",
        "torch.save(model_final.model.state_dict(), '/content/drive/MyDrive/Internship/camembert_model.pth')\n"
      ],
      "metadata": {
        "id": "twkITFSvGIXx"
      },
      "execution_count": null,
      "outputs": []
    },
    {
      "cell_type": "code",
      "source": [
        "df.columns"
      ],
      "metadata": {
        "colab": {
          "base_uri": "https://localhost:8080/"
        },
        "id": "pRSn2sLJMczJ",
        "outputId": "660fea59-2d59-427a-aa4a-4d6ffbe7f302"
      },
      "execution_count": null,
      "outputs": [
        {
          "output_type": "execute_result",
          "data": {
            "text/plain": [
              "Index(['Unnamed: 0.1', 'Unnamed: 0', 'links', 'Titre', 'Date', 'Thème',\n",
              "       'clean_title', 'label', 'label_id', 'theme_pred', 'thème_pred', 'count',\n",
              "       'mois', 'Sentiment', 'LABEL'],\n",
              "      dtype='object')"
            ]
          },
          "metadata": {},
          "execution_count": 60
        }
      ]
    },
    {
      "cell_type": "code",
      "source": [
        "df['Date'] = pd.to_datetime(df['Date'])\n",
        "df= df.sort_values(by='Date')"
      ],
      "metadata": {
        "id": "G8wsG3v5MNPm"
      },
      "execution_count": null,
      "outputs": []
    },
    {
      "cell_type": "code",
      "source": [
        "label_map"
      ],
      "metadata": {
        "colab": {
          "base_uri": "https://localhost:8080/"
        },
        "id": "2R8NWJa6O-fu",
        "outputId": "8b450735-ba98-4e32-ac8b-22eb9a643798"
      },
      "execution_count": null,
      "outputs": [
        {
          "output_type": "execute_result",
          "data": {
            "text/plain": [
              "{'autre': 0, 'culture': 1, 'international': 2, 'sport': 3}"
            ]
          },
          "metadata": {},
          "execution_count": 76
        }
      ]
    },
    {
      "cell_type": "code",
      "source": [
        "# Inverser le dictionnaire de mappage\n",
        "inverse_label_map = {v: k for k, v in label_map.items()}\n",
        "\n",
        "print(inverse_label_map)\n"
      ],
      "metadata": {
        "colab": {
          "base_uri": "https://localhost:8080/"
        },
        "id": "zv6Hg3CSOYdM",
        "outputId": "8c29e8d1-ce29-444a-9207-8145dfccb9e3"
      },
      "execution_count": null,
      "outputs": [
        {
          "output_type": "stream",
          "name": "stdout",
          "text": [
            "{0: 'autre', 1: 'culture', 2: 'international', 3: 'sport'}\n"
          ]
        }
      ]
    },
    {
      "cell_type": "code",
      "source": [
        "df['Thème_final'] =df[\"LABEL\"].apply(lambda x: inverse_label_map[x] if x in inverse_label_map else x)"
      ],
      "metadata": {
        "id": "_wNStt3zMl5u"
      },
      "execution_count": null,
      "outputs": []
    },
    {
      "cell_type": "code",
      "source": [
        "df['Thème_final'].head()"
      ],
      "metadata": {
        "colab": {
          "base_uri": "https://localhost:8080/"
        },
        "id": "p8w4Pnf9Ntof",
        "outputId": "60cf6e51-afe8-4772-f44e-eae3eefba6a9"
      },
      "execution_count": null,
      "outputs": [
        {
          "output_type": "execute_result",
          "data": {
            "text/plain": [
              "297107          culture\n",
              "297108          culture\n",
              "297130    international\n",
              "297131            autre\n",
              "297132            autre\n",
              "Name: Thème_final, dtype: object"
            ]
          },
          "metadata": {},
          "execution_count": 79
        }
      ]
    },
    {
      "cell_type": "code",
      "source": [
        "# Échantillon aléatoire des lignes où Thème_final == 'autre'\n",
        "sampled_df = df[df['Thème_final'] == 'autre'].sample(n=2000, random_state=1)"
      ],
      "metadata": {
        "id": "9gN7LC4-PSrg"
      },
      "execution_count": null,
      "outputs": []
    }
  ],
  "metadata": {
    "accelerator": "GPU",
    "colab": {
      "gpuType": "L4",
      "machine_shape": "hm",
      "provenance": []
    },
    "kaggle": {
      "accelerator": "nvidiaTeslaT4",
      "dataSources": [
        {
          "datasetId": 5287646,
          "sourceId": 8794067,
          "sourceType": "datasetVersion"
        }
      ],
      "dockerImageVersionId": 30733,
      "isGpuEnabled": true,
      "isInternetEnabled": false,
      "language": "python",
      "sourceType": "notebook"
    },
    "kernelspec": {
      "display_name": "Python 3",
      "name": "python3"
    },
    "language_info": {
      "codemirror_mode": {
        "name": "ipython",
        "version": 3
      },
      "file_extension": ".py",
      "mimetype": "text/x-python",
      "name": "python",
      "nbconvert_exporter": "python",
      "pygments_lexer": "ipython3",
      "version": "3.11.7"
    }
  },
  "nbformat": 4,
  "nbformat_minor": 0
}